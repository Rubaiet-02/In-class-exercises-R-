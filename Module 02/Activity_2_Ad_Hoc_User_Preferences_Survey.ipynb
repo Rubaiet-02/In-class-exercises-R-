{
  "cells": [
    {
      "cell_type": "markdown",
      "metadata": {
        "id": "view-in-github",
        "colab_type": "text"
      },
      "source": [
        "<a href=\"https://colab.research.google.com/github/Rubaiet-02/In-class-exercises-R-/blob/main/Module%2002/Activity_2_Ad_Hoc_User_Preferences_Survey.ipynb\" target=\"_parent\"><img src=\"https://colab.research.google.com/assets/colab-badge.svg\" alt=\"Open In Colab\"/></a>"
      ]
    },
    {
      "cell_type": "markdown",
      "metadata": {
        "id": "2MjVJkF5YgB_"
      },
      "source": [
        "# Activity 2: Ad-Hoc User Preferences Survey\n",
        "\n",
        "## Learning Outcome\n",
        "\n",
        "Explore how to gather and display user preferences through an open-ended programming task. This activity encourages experimentation and resourcefulness with the concepts of input and output in Python.\n",
        "\n",
        "> **Note:** In this activity, I encourage you to experiment freely with your ideas. In the next activity, we follow a more structured approach, so feel free to explore different methods here and see how a systematic workflow can be applied later.\n",
        "\n",
        "> **Tip:** Remember, using clear and descriptive variable names can make your code easier to understand as your programmes grow.\n",
        "\n",
        "## Instructions\n",
        "\n",
        "1. **Write a Python Script:**  \n",
        "   Develop a programme that asks the user about their preferences and then presents those preferences back to them.\n",
        "\n",
        "> **Hint:** Think of your script as a conversation between you and the computer. Ask questions and respond with a summary!\n",
        "\n",
        "2. **Gather Preferences:**  \n",
        "   - Choose at least three different preferences to ask the user about (for example, favourite colour, favourite food, favourite hobby, favourite movie, etc.).\n",
        "   - Use the `input()` function to capture the user’s responses.\n",
        "   \n",
        "> **AI Tip:** If you’re unsure of what to ask, try brainstorming a list of interests and see which ones spark your curiosity.\n",
        "\n",
        "3. **Present Preferences:**  \n",
        "   - Use the `print()` function to display the gathered preferences in a clear and organised manner.\n",
        "   - Consider constructing a summary message that incorporates the user’s inputs, for example:  \n",
        "     \n",
        "     > \"Hello, [name]! Your favourite colour is [colour], you love [food], and you enjoy [hobby].\"\n",
        "     \n",
        "> **Advanced Concept:** The `print()` function can take multiple arguments separated by commas, automatically adding a space between them. This is a simple way to format your output without needing to manually insert spaces.\n",
        "\n",
        "## Step-by-Step Guide\n",
        "\n",
        "### Step 1: Creating the Survey\n",
        "\n",
        "Below is an example code cell that gathers several user preferences. Run this cell to see how it works. Feel free to modify the prompts or add new ones as you experiment."
      ]
    },
    {
      "cell_type": "code",
      "metadata": {
        "id": "_b5l7rZlYgCA",
        "outputId": "aa4685a2-58f2-4306-a081-7b4bc388beff",
        "colab": {
          "base_uri": "https://localhost:8080/"
        }
      },
      "source": [
        "# Sample survey programme\n",
        "\n",
        "# Ask the user for their preferences\n",
        "name = input(\"What's your name? \")\n",
        "favourite_colour = input(\"What's your favourite colour? \")\n",
        "favourite_food = input(\"What's your favourite food? \")\n",
        "favourite_movie = input(\"What's your favourite movie? \")\n",
        "\n",
        "# Construct and display a summary message\n",
        "print(\"\\nHello, \" + name + \"!\")\n",
        "print(\"Your favourite colour is \" + favourite_colour + \", you love \" + favourite_food +\n",
        "      \", and your favourite movie is \" + favourite_movie + \".\")"
      ],
      "execution_count": 1,
      "outputs": [
        {
          "output_type": "stream",
          "name": "stdout",
          "text": [
            "What's your name? Rubaiet\n",
            "What's your favourite colour? Green\n",
            "What's your favourite food? Popcorn\n",
            "What's your favourite movie? Cindrella\n",
            "\n",
            "Hello, Rubaiet!\n",
            "Your favourite colour is Green, you love Popcorn, and your favourite movie is Cindrella.\n"
          ]
        }
      ]
    },
    {
      "cell_type": "markdown",
      "metadata": {
        "id": "kZlf3X4xYgCB"
      },
      "source": [
        "> **Tip:** Notice how the `+` operator is used to join strings together. This is known as concatenation—combining separate pieces of text to form one continuous message.\n",
        "\n",
        "### Step 2: Experimentation and Extension\n",
        "\n",
        "Now it's your turn. Extend the programme by adding more preferences or by reformatting the output. Here are a few ideas to experiment with:\n",
        "\n",
        "- **Additional Preferences:**  \n",
        "  Add another input prompt, such as asking for the user's favourite hobby.\n",
        "  \n",
        "> **Hint:** More inputs mean more chances to practise variable assignment and string manipulation.\n",
        "\n",
        "- **Output Formatting:**  \n",
        "  Experiment with printing your summary message on multiple lines or using different string methods (e.g., `.upper()` or `.lower()`).\n",
        "\n",
        "> **Advanced Tip:** Try utilising Python’s f-string formatting for a neater way to embed variables within your text. For example:  \n",
        "> `print(f\"Hello, {name}! Your favourite colour is {favourite_colour}, you love {favourite_food}, and your favourite movie is {favourite_movie}.\")`\n",
        "\n",
        "Try the following skeleton code to guide your modifications:"
      ]
    },
    {
      "cell_type": "code",
      "metadata": {
        "id": "rvzKe7NBYgCB",
        "outputId": "3d8b7c75-0ab1-4055-bd72-ef4eb0b97bf3",
        "colab": {
          "base_uri": "https://localhost:8080/"
        }
      },
      "source": [
        "# TODO: Add another preference.\n",
        "# For example:\n",
        "favourite_hobby = input(\"What's your favourite hobby? \")\n",
        "\n",
        "# TODO: Update the summary message to include your new preference.\n",
        "# For example:\n",
        "print(\"Hello, \" + name + \"!\")\n",
        "print(\"Your favourite colour is \" + favourite_colour +\n",
        "  \", you love \" + favourite_food +\n",
        "      \", your favourite movie is \" + favourite_movie +\n",
        "     \", and you enjoy \" + favourite_hobby + \".\")"
      ],
      "execution_count": 2,
      "outputs": [
        {
          "output_type": "stream",
          "name": "stdout",
          "text": [
            "What's your favourite hobby? Eating\n",
            "Hello, Rubaiet!\n",
            "Your favourite colour is Green, you love Popcorn, your favourite movie is Cindrella, and you enjoy Eating.\n"
          ]
        }
      ]
    },
    {
      "cell_type": "markdown",
      "metadata": {
        "id": "nVrv899PYgCC"
      },
      "source": [
        "> **AI Tip:** If you ever get stuck or need inspiration on how to organise your output, ask your AI tutor for suggestions on string formatting or creative ways to display information.\n",
        "\n",
        "## Guidance\n",
        "\n",
        "- **Approach Freely:**  \n",
        "  You are free to design your programme in any way that demonstrates your understanding of the concepts.\n",
        "  \n",
        "> **Tip:** There is no single correct solution—experimentation is key to learning!\n",
        "\n",
        "- **Utilise Resources:**  \n",
        "  Feel free to explore online tutorials, ask peers, or use reference materials that support your learning.\n",
        "\n",
        "> **Advanced Concept:** Understanding how functions work (like `input()` and `print()`) is essential. Think of functions as little machines that take inputs (arguments), process them, and then give you an output.\n",
        "\n",
        "- **Experiment and Explore:**  \n",
        "  The goal is to experiment with the concepts you have learned so far. Creativity is encouraged—there is no single correct way to complete this task!\n",
        "\n",
        "## Mini-Challenges\n",
        "\n",
        "These mini-challenges are designed to further stimulate your creativity and problem-solving skills:\n",
        "\n",
        "1. **Starred Preferences:**  \n",
        "   Print each preference on a separate line, with a star (`*`) at the beginning of each line."
      ]
    },
    {
      "cell_type": "code",
      "metadata": {
        "md-indent": "   ",
        "id": "iyobeYf4YgCC",
        "outputId": "6fe8c29e-73b3-4343-ed77-8f01bfa6419c",
        "colab": {
          "base_uri": "https://localhost:8080/"
        }
      },
      "source": [
        "# TODO: Modify the summary to print each preference on a separate line with a star.\n",
        "# For example, the output could look like:\n",
        "print(\"Hello, John!\")\n",
        "print(\"* Your Favourite colour is blue\" + \"\\n *Favourite food is pizza.\" + \"\\n *Favourite movie is Inception\")"
      ],
      "execution_count": 6,
      "outputs": [
        {
          "output_type": "stream",
          "name": "stdout",
          "text": [
            "Hello, John!\n",
            "* Your Favourite colour is blue\n",
            " *Favourite food is pizza.\n",
            " *Favourite movie is Inception\n"
          ]
        }
      ]
    },
    {
      "cell_type": "markdown",
      "metadata": {
        "id": "E2UHoZJqYgCC"
      },
      "source": [
        "> **Hint:** Use the newline character `\\n` to break lines in your string, or print each line separately.\n",
        "\n",
        "2. **Age Calculator:**  \n",
        "   Ask the user for their birth year and calculate how old they will be this year.\n",
        "   \n",
        "   *Hint: You may use the `datetime` module to get the current year.*"
      ]
    },
    {
      "cell_type": "code",
      "metadata": {
        "md-indent": "   ",
        "id": "QxYX7ngTYgCC",
        "outputId": "94edeb6b-5cd4-4ccf-d31f-e7c0e1956870",
        "colab": {
          "base_uri": "https://localhost:8080/"
        }
      },
      "source": [
        "# TODO: Ask the user for their birth year and calculate their age.\n",
        "# For example:\n",
        "birth_year = int(input(\"What year were you born? \"))\n",
        "import datetime\n",
        "current_year = datetime.datetime.now().year\n",
        "age = current_year - birth_year\n",
        "print(\"You are\", age, \"years old!\")"
      ],
      "execution_count": 8,
      "outputs": [
        {
          "output_type": "stream",
          "name": "stdout",
          "text": [
            "What year were you born? 2003\n",
            "You are 22 years old!\n"
          ]
        }
      ]
    },
    {
      "cell_type": "markdown",
      "metadata": {
        "id": "RG0VfULzYgCD"
      },
      "source": [
        "> **Tip:** Remember to convert the input to an integer using `int()` before performing arithmetic.\n",
        "\n",
        "3. **F-String Formatting Challenge:**  \n",
        "   Refactor your summary message to use Python's f-string formatting instead of string concatenation."
      ]
    },
    {
      "cell_type": "code",
      "metadata": {
        "md-indent": "   ",
        "id": "KGlO6f-oYgCD",
        "outputId": "6f7279cf-150a-4fe6-85af-153ca47727fc",
        "colab": {
          "base_uri": "https://localhost:8080/"
        }
      },
      "source": [
        "# TODO: Rewrite your summary message using f-strings.\n",
        "# For example:\n",
        "print(f\"Hello, {name}! Your favourite colour is {favourite_colour}, you love {favourite_food}, and your favourite movie is {favourite_movie}.\")"
      ],
      "execution_count": 9,
      "outputs": [
        {
          "output_type": "stream",
          "name": "stdout",
          "text": [
            "Hello, Rubaiet! Your favourite colour is Green, you love Popcorn, and your favourite movie is Cindrella.\n"
          ]
        }
      ]
    },
    {
      "cell_type": "markdown",
      "metadata": {
        "id": "2G5pQeDmYgCD"
      },
      "source": [
        "> **AI Tip:** F-strings are a modern and efficient way to format strings. If you’re new to them, try asking your AI tutor, “How do I use f-strings in Python?”\n",
        "\n",
        "## Reflection\n",
        "\n",
        "After completing your script and mini-challenges, take a few moments to reflect on the following:\n",
        "\n",
        "- What method did you choose for gathering user preferences?\n",
        "- How did you decide which preferences to ask?\n",
        "- Were there any challenges in organising your output message? How did you overcome them?\n",
        "- How might you further refine or expand your programme?\n",
        "\n",
        "> **Tip:** Reflecting on your process can help identify areas for improvement and spark ideas for future projects.\n",
        "\n",
        "Happy coding and enjoy the creative process!"
      ]
    }
  ],
  "metadata": {
    "kernelspec": {
      "name": "python3",
      "language": "python",
      "display_name": "Python 3 (ipykernel)"
    },
    "colab": {
      "provenance": [],
      "include_colab_link": true
    }
  },
  "nbformat": 4,
  "nbformat_minor": 0
}