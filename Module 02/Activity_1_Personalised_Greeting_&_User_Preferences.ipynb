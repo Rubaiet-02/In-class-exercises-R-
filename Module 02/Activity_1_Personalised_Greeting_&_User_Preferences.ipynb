{
  "cells": [
    {
      "cell_type": "markdown",
      "metadata": {
        "id": "view-in-github",
        "colab_type": "text"
      },
      "source": [
        "<a href=\"https://colab.research.google.com/github/Rubaiet-02/In-class-exercises-R-/blob/main/Module%2002/Activity_1_Personalised_Greeting_%26_User_Preferences.ipynb\" target=\"_parent\"><img src=\"https://colab.research.google.com/assets/colab-badge.svg\" alt=\"Open In Colab\"/></a>"
      ]
    },
    {
      "cell_type": "markdown",
      "metadata": {
        "id": "UqWh27PVUTXd"
      },
      "source": [
        "# Activity 1: Personalised Greeting & User Preferences\n",
        "\n",
        "Welcome to your first hands-on project in Python! In this activity, you will create a program that collects user information, processes it, and displays a personalised message. Along the way, you'll find hints, tips, and even AI suggestions to help you think like a programmer and problem-solver."
      ]
    },
    {
      "cell_type": "raw",
      "metadata": {
        "id": "0noqds80UTXp"
      },
      "source": [
        "---\n",
        "\n",
        "## Project Goal\n",
        "\n",
        "Your mission is to build a simple interactive program that:\n",
        "- Asks the user for their name and a couple of preferences (like their favorite colour and food).\n",
        "- Stores their responses in variables.\n",
        "- Outputs a custom message that uses these inputs.\n",
        "\n",
        "**Tip:** Good variable names help keep your code clear and your intentions obvious.\n",
        "\n",
        "---"
      ]
    },
    {
      "cell_type": "markdown",
      "metadata": {
        "id": "blROYXDwUTXq"
      },
      "source": [
        "## Instructions\n",
        "\n",
        "1. **Collect User Input:**  \n",
        "  Use the `input()` function to ask for details such as the user's name, favourite colour, and favourite food.  \n",
        "   \n",
        "  > **Hint:** Think of `input()` as a way to start a conversation with your computer.\n",
        "\n",
        "2. **Store Responses in Variables:**  \n",
        "  Assign each input value to a variable.  \n",
        "  \n",
        "  > **Tip:** Choose descriptive names for your variables (e.g., `user_name`, `fav_colour`).\n",
        "\n",
        "3. **Output a Summary Message:**  \n",
        "  Use the `print()` function to display a personalized greeting that includes all the user's inputs.\n",
        "\n",
        "4. **Extend and Experiment:**  \n",
        "  Add extra prompts like asking for a favourite hobby or a spirit animal. Experiment with string manipulation methods and see what fun outputs you can create.\n",
        "\n",
        "5. **AI Assistance:**  \n",
        "  If you get stuck, consider asking your AI tutor for hints on string operations or debugging tips.  \n",
        "   \n",
        "  > **AI Tip:** You can say, “How do I combine strings in Python?” for additional guidance."
      ]
    },
    {
      "cell_type": "markdown",
      "metadata": {
        "id": "mtcLfvCLUTXq"
      },
      "source": [
        "---\n",
        "\n",
        "## Step-by-Step Guide\n",
        "\n",
        "### Step 1: Collecting User Input\n",
        "\n",
        "Below is a code snippet to capture user input. Feel free to adjust the prompts as needed."
      ]
    },
    {
      "cell_type": "code",
      "execution_count": 1,
      "metadata": {
        "vscode": {
          "languageId": "python"
        },
        "id": "HUQtFjQQUTXq",
        "colab": {
          "base_uri": "https://localhost:8080/"
        },
        "outputId": "7b4a618d-d012-4711-f964-5cd7bda7db0c"
      },
      "outputs": [
        {
          "output_type": "stream",
          "name": "stdout",
          "text": [
            "What is your name? Ruabiet\n",
            "What is your favourite colour? blue\n",
            "What is your favourite food? burger\n",
            "Name: Ruabiet\n",
            "Favourite Colour: blue\n",
            "Favourite Food: burger\n"
          ]
        }
      ],
      "source": [
        "# Collect basic user inputs\n",
        "user_name = input(\"What is your name? \")\n",
        "fav_colour = input(\"What is your favourite colour? \")\n",
        "fav_food = input(\"What is your favourite food? \")\n",
        "\n",
        "# Display the captured inputs\n",
        "print(\"Name:\", user_name)\n",
        "print(\"Favourite Colour:\", fav_colour)\n",
        "print(\"Favourite Food:\", fav_food)"
      ]
    },
    {
      "cell_type": "raw",
      "metadata": {
        "id": "nZENXVWyUTXr"
      },
      "source": [
        "> **Concept**: When using `input()`, the string between the quoptes is know as a prompt\n",
        "\n",
        "> **Tip**  When using `print()`, you can separate multiple items with a comma. This tells Python to output each item with a space between them automatically.\n",
        "\n",
        "> **Advanced Concept**  Arguments are passed to functions (like `print()`).  These *arguments* are the values you provide between the parentheses. In this example, each comma-separated value is an argument, and the `print()` function prints them in order.\n",
        "\n",
        "> **Hint:** After running this cell, check that your inputs are stored correctly by printing the variables.\n",
        "\n",
        "---"
      ]
    },
    {
      "cell_type": "markdown",
      "metadata": {
        "id": "5gymyWwIUTXr"
      },
      "source": [
        "### Step 2: Outputting a Personalized Summary\n",
        "\n",
        "Now combine your inputs into a friendly greeting using string concatenation."
      ]
    },
    {
      "cell_type": "code",
      "execution_count": 2,
      "metadata": {
        "vscode": {
          "languageId": "python"
        },
        "id": "KchT32mbUTXs",
        "colab": {
          "base_uri": "https://localhost:8080/"
        },
        "outputId": "c0db1b21-491c-4130-ba2c-ba039451a29f"
      },
      "outputs": [
        {
          "output_type": "stream",
          "name": "stdout",
          "text": [
            "Hello, Ruabiet! Your favourite colour is blue and you love burger.\n"
          ]
        }
      ],
      "source": [
        "# Output a summary message combining the inputs\n",
        "print(\"Hello, \" + user_name + \"! Your favourite colour is \" + fav_colour +\n",
        "      \" and you love \" + fav_food + \".\")"
      ]
    },
    {
      "cell_type": "markdown",
      "metadata": {
        "id": "xRGxj_epUTXs"
      },
      "source": [
        "> **Tip**  The `+` operator is used here to join, or \"concatenate,\" multiple strings together to build up your final message. Think of it as gluing pieces of text into one complete sentence.\n",
        "\n",
        "> **Advanced Concept:**  Using the `+` operator for strings lets you create new strings by combining literal text with variables. This is one of the fundamental ways to build messages dynamically in Python.\n",
        "\n",
        "> **Advanced Tip:** Experiment with different ways of joining strings – try using f-strings for cleaner code as you become more comfortable."
      ]
    },
    {
      "cell_type": "markdown",
      "metadata": {
        "id": "BMh7F-F1UTXs"
      },
      "source": [
        "---\n",
        "\n",
        "### Step 3: Your Turn – Extend the Program\n",
        "\n",
        "It’s time to add an extra input. For instance, ask the user for their favourite hobby and update your greeting message accordingly."
      ]
    },
    {
      "cell_type": "code",
      "execution_count": 4,
      "metadata": {
        "vscode": {
          "languageId": "python"
        },
        "id": "0ZkQRJidUTXs",
        "colab": {
          "base_uri": "https://localhost:8080/"
        },
        "outputId": "a34b0c8c-df1f-44f4-f0af-d622622dffc7"
      },
      "outputs": [
        {
          "output_type": "stream",
          "name": "stdout",
          "text": [
            "What is your favourite hobby? drawing\n",
            "Favourite hobby: drawing\n",
            "Hello, Ruabiet! Your favourite colour is blue, you love burger, and your favourite hobby is drawing.\n"
          ]
        }
      ],
      "source": [
        "# TODO: Ask the user for their favourite hobby and store it in a variable.\n",
        "# For example:\n",
        "fav_hobby = input(\"What is your favourite hobby? \")\n",
        "print(\"Favourite hobby:\", fav_hobby)\n",
        "\n",
        "# Then update the summary message to include the hobby.\n",
        "# For example:\n",
        "print(\"Hello, \" + user_name + \"! Your favourite colour is \" + fav_colour +\n",
        "      \", you love \" + fav_food + \", and your favourite hobby is \" + fav_hobby + \".\")"
      ]
    },
    {
      "cell_type": "markdown",
      "metadata": {
        "id": "LcP_WcaJUTXt"
      },
      "source": [
        "## Experiment with input()\n",
        "\n",
        "Try a different twist by asking for something unique, like the user’s spirit animal. This is a fun way to practice with `input()`."
      ]
    },
    {
      "cell_type": "code",
      "execution_count": 6,
      "metadata": {
        "vscode": {
          "languageId": "python"
        },
        "id": "fHhF5gg8UTXt",
        "colab": {
          "base_uri": "https://localhost:8080/"
        },
        "outputId": "30e8b298-a746-4534-9738-8b916a261b3c"
      },
      "outputs": [
        {
          "output_type": "stream",
          "name": "stdout",
          "text": [
            "What's your spirit animal? Lion\n",
            "Interesting choice! I wonder why a Lion resonates with you.\n"
          ]
        }
      ],
      "source": [
        "spirit_animal = input(\"What's your spirit animal? \")\n",
        "print(\"Interesting choice! I wonder why a\", spirit_animal, \"resonates with you.\")"
      ]
    },
    {
      "cell_type": "markdown",
      "metadata": {
        "id": "vEVy76djUTXt"
      },
      "source": [
        "> **Hint:** Think about how different input types (like numbers or strings) can change your approach to programming."
      ]
    },
    {
      "cell_type": "markdown",
      "metadata": {
        "id": "s1yUSeoMUTXt"
      },
      "source": [
        "---\n",
        "\n",
        "## Simple String Manipulation\n",
        "\n",
        "Discover how to change the style of your text. The code below shows your name transformed to all uppercase letters."
      ]
    },
    {
      "cell_type": "code",
      "execution_count": 5,
      "metadata": {
        "vscode": {
          "languageId": "python"
        },
        "id": "vKJMOVwwUTXt",
        "colab": {
          "base_uri": "https://localhost:8080/"
        },
        "outputId": "3c8917d0-0e11-427c-f4ec-89a04b7b1619"
      },
      "outputs": [
        {
          "output_type": "stream",
          "name": "stdout",
          "text": [
            "Your name in all caps is RUABIET!\n"
          ]
        }
      ],
      "source": [
        "print(\"Your name in all caps is\", user_name.upper() + \"!\")"
      ]
    },
    {
      "cell_type": "markdown",
      "metadata": {
        "id": "YDIy4xzgUTXu"
      },
      "source": [
        "## Advanced Concept: Understanding Dot-Methods\n",
        "\n",
        "When you see a dot (.) following a variable in Python—like in `user_name.upper()`—you're using a method that belongs to that variable's type. In this example, `user_name` is a string, and `.upper()` is a method that converts all characters to uppercase.\n",
        "\n",
        "- **Dot-Methods Explained:**  \n",
        "  In Python, many data types have built-in functions (methods) that perform common tasks. When you type a dot after a variable, your IDE (Integrated Development Environment) can display a list of available methods. For instance, type `user_name.` and pause, and you'll see a drop-down list of string methods. This list gets filtered as you type more letters, helping you quickly find the method you need.\n",
        "\n",
        "- **IDE Autocomplete Tip:**  \n",
        "  If you're ever unsure which method to use, try typing a dot after your variable name. Your IDE’s autocomplete feature will suggest options along with a brief description. This is a great way to learn about what methods are available for strings and other objects before diving deeper into object-oriented programming later in the course.\n",
        "\n",
        "> **AI Tip:** Ask your AI tutor, “What are some common string methods in Python?” for more examples and explanations."
      ]
    },
    {
      "cell_type": "code",
      "source": [
        "name: \"Rubaiet\"\n",
        "age: 21\n",
        "height: 1.65"
      ],
      "metadata": {
        "id": "hl-oPW12F7zT"
      },
      "execution_count": 11,
      "outputs": []
    },
    {
      "cell_type": "code",
      "source": [
        "height.is_integer()"
      ],
      "metadata": {
        "id": "M_sTg4bAHLDe",
        "outputId": "6da8796d-fcb7-42e6-bc49-ef7bf3284b59",
        "colab": {
          "base_uri": "https://localhost:8080/",
          "height": 141
        }
      },
      "execution_count": 16,
      "outputs": [
        {
          "output_type": "error",
          "ename": "NameError",
          "evalue": "name 'height' is not defined",
          "traceback": [
            "\u001b[0;31m---------------------------------------------------------------------------\u001b[0m",
            "\u001b[0;31mNameError\u001b[0m                                 Traceback (most recent call last)",
            "\u001b[0;32m/tmp/ipython-input-2758522903.py\u001b[0m in \u001b[0;36m<cell line: 0>\u001b[0;34m()\u001b[0m\n\u001b[0;32m----> 1\u001b[0;31m \u001b[0mheight\u001b[0m\u001b[0;34m.\u001b[0m\u001b[0mis_integer\u001b[0m\u001b[0;34m(\u001b[0m\u001b[0;34m)\u001b[0m\u001b[0;34m\u001b[0m\u001b[0;34m\u001b[0m\u001b[0m\n\u001b[0m",
            "\u001b[0;31mNameError\u001b[0m: name 'height' is not defined"
          ]
        }
      ]
    },
    {
      "cell_type": "markdown",
      "metadata": {
        "id": "6bZvNb90UTXu"
      },
      "source": [
        "---\n",
        "\n",
        "## Mini-Challenges\n",
        "\n",
        "### Challenge 1: Multi-line Greeting  \n",
        "Modify your greeting message so it prints on two lines.  \n",
        "\n",
        "> *Hint:* Insert the newline character `\\n` in your string to start a new line."
      ]
    },
    {
      "cell_type": "code",
      "execution_count": 7,
      "metadata": {
        "vscode": {
          "languageId": "python"
        },
        "id": "oSNjaUW1UTXu",
        "colab": {
          "base_uri": "https://localhost:8080/"
        },
        "outputId": "5088ff3b-0453-4005-8c0c-79aa7e5b9b53"
      },
      "outputs": [
        {
          "output_type": "stream",
          "name": "stdout",
          "text": [
            "Hello, Ruabiet!\n",
            "Your favourite colour is blue and you love burger.\n"
          ]
        }
      ],
      "source": [
        "# TODO: Modify the greeting message to print on two separate lines.\n",
        "# For example, consider:\n",
        "print(\"Hello, \" + user_name + \"!\\nYour favourite colour is \" + fav_colour +\n",
        "     \" and you love \" + fav_food + \".\")"
      ]
    },
    {
      "cell_type": "markdown",
      "metadata": {
        "id": "kvkaPh9aUTXu"
      },
      "source": [
        "### Challenge 2: Age Calculator  \n",
        "Ask the user for their birth year and calculate their age for the current year.  \n",
        "*Hint:* You might need to import the `datetime` module to obtain the current year."
      ]
    },
    {
      "cell_type": "code",
      "execution_count": 21,
      "metadata": {
        "vscode": {
          "languageId": "python"
        },
        "id": "1DYgy0yQUTXu",
        "colab": {
          "base_uri": "https://localhost:8080/"
        },
        "outputId": "512e929e-6229-4a57-f03c-8f74caf8b3ec"
      },
      "outputs": [
        {
          "output_type": "stream",
          "name": "stdout",
          "text": [
            "What year were you born? 2003\n",
            "You are 22 years old!\n"
          ]
        }
      ],
      "source": [
        "# TODO: Ask the user for their birth year and calculate their age.\n",
        "# For example:\n",
        "birth_year = int(input(\"What year were you born? \"))\n",
        "import datetime\n",
        "current_year = datetime.datetime.now().year\n",
        "age = current_year - birth_year\n",
        "print(\"You are\", age, \"years old!\")"
      ]
    },
    {
      "cell_type": "code",
      "source": [
        "import datetime\n",
        "current_year = datetime.datetime.now().year\n",
        "print(current_year)"
      ],
      "metadata": {
        "id": "0zl-O-oAI7BV",
        "outputId": "fbe5779c-42f4-40d7-dbae-e3400644b9f4",
        "colab": {
          "base_uri": "https://localhost:8080/"
        }
      },
      "execution_count": 19,
      "outputs": [
        {
          "output_type": "stream",
          "name": "stdout",
          "text": [
            "2025\n"
          ]
        }
      ]
    },
    {
      "cell_type": "code",
      "source": [
        "type(current_year)"
      ],
      "metadata": {
        "id": "JhuwXW-kJEQp",
        "outputId": "664b8685-ca6e-4a9f-839d-892e7a78f398",
        "colab": {
          "base_uri": "https://localhost:8080/"
        }
      },
      "execution_count": 20,
      "outputs": [
        {
          "output_type": "execute_result",
          "data": {
            "text/plain": [
              "int"
            ]
          },
          "metadata": {},
          "execution_count": 20
        }
      ]
    },
    {
      "cell_type": "markdown",
      "metadata": {
        "id": "ImilsyI-UTXu"
      },
      "source": [
        "> **Tip:** Make sure to convert the input from a string to an integer using `int()` before doing arithmetic."
      ]
    },
    {
      "cell_type": "markdown",
      "metadata": {
        "id": "5TAY93NBUTXu"
      },
      "source": [
        "---\n",
        "\n",
        "## Optional Advanced: Interactive Input with ipywidgets\n",
        "\n",
        "This section provides a sneak peek into interactive programming techniques. Feel free to explore if you’re curious about more dynamic user interfaces. (Don't worry if this seems advanced—it's an optional bonus!)"
      ]
    },
    {
      "cell_type": "code",
      "execution_count": 22,
      "metadata": {
        "vscode": {
          "languageId": "python"
        },
        "id": "TVTu3NQWUTXv",
        "colab": {
          "base_uri": "https://localhost:8080/",
          "height": 130,
          "referenced_widgets": [
            "5077ade359654926b9226b6e03f9e581",
            "045524a2be59476caab664a66b4a4838",
            "7de617ee2b4a425691ea622aa6a57bd9",
            "24225b30169a4c2a87f8a7aebe56bc9e",
            "afc0d25705ab4a259f8606ee102b388f",
            "f78bdfcd125e4fcb9cd1e14804690230",
            "562b2bbd99d24978b5f48662870cc386",
            "7e42ac9e8a9c425c990959b16ab0c60c",
            "0c1aa15f02d94027a3b7dd6b45d683bc",
            "b7c54f438aae473ead1ffd6df29664e9",
            "bf39929184944f248313c83fa0cfcb96",
            "31a54ccce02d48ba95822a8d8a17c892",
            "a444ad74abd9466dbf2f432b07435e57"
          ]
        },
        "outputId": "b79f65ae-fc81-47ea-f4a2-a233db7dbc09"
      },
      "outputs": [
        {
          "output_type": "display_data",
          "data": {
            "text/plain": [
              "VBox(children=(Text(value='', placeholder='Enter your name'), Text(value='', placeholder='Enter your favourite…"
            ],
            "application/vnd.jupyter.widget-view+json": {
              "version_major": 2,
              "version_minor": 0,
              "model_id": "5077ade359654926b9226b6e03f9e581"
            }
          },
          "metadata": {}
        },
        {
          "output_type": "display_data",
          "data": {
            "text/plain": [
              "Output()"
            ],
            "application/vnd.jupyter.widget-view+json": {
              "version_major": 2,
              "version_minor": 0,
              "model_id": "31a54ccce02d48ba95822a8d8a17c892"
            }
          },
          "metadata": {}
        }
      ],
      "source": [
        "# Optional Advanced: Using ipywidgets for interactive input\n",
        "# If needed, uncomment the next line to install ipywidgets in Colab\n",
        "# !pip install ipywidgets\n",
        "\n",
        "import ipywidgets as widgets\n",
        "from IPython.display import display\n",
        "\n",
        "def greet(user_name, fav_colour, fav_food):\n",
        "    greeting = f\"Hello, {user_name}! Your favourite colour is {fav_colour} and you love {fav_food}.\"\n",
        "    print(greeting)\n",
        "\n",
        "# Create interactive text widgets for input\n",
        "name_widget = widgets.Text(placeholder='Enter your name')\n",
        "colour_widget = widgets.Text(placeholder='Enter your favourite colour')\n",
        "food_widget = widgets.Text(placeholder='Enter your favourite food')\n",
        "\n",
        "ui = widgets.VBox([name_widget, colour_widget, food_widget])\n",
        "out = widgets.interactive_output(greet, {'user_name': name_widget, 'fav_colour': colour_widget, 'fav_food': food_widget})\n",
        "display(ui, out)"
      ]
    },
    {
      "cell_type": "raw",
      "metadata": {
        "id": "B9fh037PUTXv"
      },
      "source": [
        "> **AI Tip:** Use the interactive widgets as a way to see real-time feedback on your code. You can ask your AI tutor for more creative ideas on using ipywidgets.\n",
        "\n",
        "---"
      ]
    },
    {
      "cell_type": "markdown",
      "metadata": {
        "id": "BHrHI2J4UTXv"
      },
      "source": [
        "## Summary and Next Steps\n",
        "\n",
        "- **Experiment:**  \n",
        "  Play around with different prompts and string methods. For instance, try converting text to uppercase or adding another personal touch to your greeting.\n",
        "\n",
        "- **Mini-Challenges:**  \n",
        "  Work on the mini-challenges above to further hone your coding skills.\n",
        "\n",
        "- **Interactive Widgets (Optional):**  \n",
        "  Explore the ipywidgets section to learn about interactive programming. Ask your AI helper for extra resources if you're interested!\n",
        "\n",
        "Remember, programming is about exploring and learning from your experiments. If you get stuck, your Lecturer, Tutor and AI tutor are here to help.\n",
        "\n",
        "Happy coding!"
      ]
    }
  ],
  "metadata": {
    "kernelspec": {
      "display_name": "Python 3 (ipykernel)",
      "language": "python",
      "name": "python3"
    },
    "colab": {
      "provenance": [],
      "include_colab_link": true
    },
    "widgets": {
      "application/vnd.jupyter.widget-state+json": {
        "5077ade359654926b9226b6e03f9e581": {
          "model_module": "@jupyter-widgets/controls",
          "model_name": "VBoxModel",
          "model_module_version": "1.5.0",
          "state": {
            "_dom_classes": [],
            "_model_module": "@jupyter-widgets/controls",
            "_model_module_version": "1.5.0",
            "_model_name": "VBoxModel",
            "_view_count": null,
            "_view_module": "@jupyter-widgets/controls",
            "_view_module_version": "1.5.0",
            "_view_name": "VBoxView",
            "box_style": "",
            "children": [
              "IPY_MODEL_045524a2be59476caab664a66b4a4838",
              "IPY_MODEL_7de617ee2b4a425691ea622aa6a57bd9",
              "IPY_MODEL_24225b30169a4c2a87f8a7aebe56bc9e"
            ],
            "layout": "IPY_MODEL_afc0d25705ab4a259f8606ee102b388f"
          }
        },
        "045524a2be59476caab664a66b4a4838": {
          "model_module": "@jupyter-widgets/controls",
          "model_name": "TextModel",
          "model_module_version": "1.5.0",
          "state": {
            "_dom_classes": [],
            "_model_module": "@jupyter-widgets/controls",
            "_model_module_version": "1.5.0",
            "_model_name": "TextModel",
            "_view_count": null,
            "_view_module": "@jupyter-widgets/controls",
            "_view_module_version": "1.5.0",
            "_view_name": "TextView",
            "continuous_update": true,
            "description": "",
            "description_tooltip": null,
            "disabled": false,
            "layout": "IPY_MODEL_f78bdfcd125e4fcb9cd1e14804690230",
            "placeholder": "Enter your name",
            "style": "IPY_MODEL_562b2bbd99d24978b5f48662870cc386",
            "value": "Rubaiet"
          }
        },
        "7de617ee2b4a425691ea622aa6a57bd9": {
          "model_module": "@jupyter-widgets/controls",
          "model_name": "TextModel",
          "model_module_version": "1.5.0",
          "state": {
            "_dom_classes": [],
            "_model_module": "@jupyter-widgets/controls",
            "_model_module_version": "1.5.0",
            "_model_name": "TextModel",
            "_view_count": null,
            "_view_module": "@jupyter-widgets/controls",
            "_view_module_version": "1.5.0",
            "_view_name": "TextView",
            "continuous_update": true,
            "description": "",
            "description_tooltip": null,
            "disabled": false,
            "layout": "IPY_MODEL_7e42ac9e8a9c425c990959b16ab0c60c",
            "placeholder": "Enter your favourite colour",
            "style": "IPY_MODEL_0c1aa15f02d94027a3b7dd6b45d683bc",
            "value": "Blue"
          }
        },
        "24225b30169a4c2a87f8a7aebe56bc9e": {
          "model_module": "@jupyter-widgets/controls",
          "model_name": "TextModel",
          "model_module_version": "1.5.0",
          "state": {
            "_dom_classes": [],
            "_model_module": "@jupyter-widgets/controls",
            "_model_module_version": "1.5.0",
            "_model_name": "TextModel",
            "_view_count": null,
            "_view_module": "@jupyter-widgets/controls",
            "_view_module_version": "1.5.0",
            "_view_name": "TextView",
            "continuous_update": true,
            "description": "",
            "description_tooltip": null,
            "disabled": false,
            "layout": "IPY_MODEL_b7c54f438aae473ead1ffd6df29664e9",
            "placeholder": "Enter your favourite food",
            "style": "IPY_MODEL_bf39929184944f248313c83fa0cfcb96",
            "value": "Burger"
          }
        },
        "afc0d25705ab4a259f8606ee102b388f": {
          "model_module": "@jupyter-widgets/base",
          "model_name": "LayoutModel",
          "model_module_version": "1.2.0",
          "state": {
            "_model_module": "@jupyter-widgets/base",
            "_model_module_version": "1.2.0",
            "_model_name": "LayoutModel",
            "_view_count": null,
            "_view_module": "@jupyter-widgets/base",
            "_view_module_version": "1.2.0",
            "_view_name": "LayoutView",
            "align_content": null,
            "align_items": null,
            "align_self": null,
            "border": null,
            "bottom": null,
            "display": null,
            "flex": null,
            "flex_flow": null,
            "grid_area": null,
            "grid_auto_columns": null,
            "grid_auto_flow": null,
            "grid_auto_rows": null,
            "grid_column": null,
            "grid_gap": null,
            "grid_row": null,
            "grid_template_areas": null,
            "grid_template_columns": null,
            "grid_template_rows": null,
            "height": null,
            "justify_content": null,
            "justify_items": null,
            "left": null,
            "margin": null,
            "max_height": null,
            "max_width": null,
            "min_height": null,
            "min_width": null,
            "object_fit": null,
            "object_position": null,
            "order": null,
            "overflow": null,
            "overflow_x": null,
            "overflow_y": null,
            "padding": null,
            "right": null,
            "top": null,
            "visibility": null,
            "width": null
          }
        },
        "f78bdfcd125e4fcb9cd1e14804690230": {
          "model_module": "@jupyter-widgets/base",
          "model_name": "LayoutModel",
          "model_module_version": "1.2.0",
          "state": {
            "_model_module": "@jupyter-widgets/base",
            "_model_module_version": "1.2.0",
            "_model_name": "LayoutModel",
            "_view_count": null,
            "_view_module": "@jupyter-widgets/base",
            "_view_module_version": "1.2.0",
            "_view_name": "LayoutView",
            "align_content": null,
            "align_items": null,
            "align_self": null,
            "border": null,
            "bottom": null,
            "display": null,
            "flex": null,
            "flex_flow": null,
            "grid_area": null,
            "grid_auto_columns": null,
            "grid_auto_flow": null,
            "grid_auto_rows": null,
            "grid_column": null,
            "grid_gap": null,
            "grid_row": null,
            "grid_template_areas": null,
            "grid_template_columns": null,
            "grid_template_rows": null,
            "height": null,
            "justify_content": null,
            "justify_items": null,
            "left": null,
            "margin": null,
            "max_height": null,
            "max_width": null,
            "min_height": null,
            "min_width": null,
            "object_fit": null,
            "object_position": null,
            "order": null,
            "overflow": null,
            "overflow_x": null,
            "overflow_y": null,
            "padding": null,
            "right": null,
            "top": null,
            "visibility": null,
            "width": null
          }
        },
        "562b2bbd99d24978b5f48662870cc386": {
          "model_module": "@jupyter-widgets/controls",
          "model_name": "DescriptionStyleModel",
          "model_module_version": "1.5.0",
          "state": {
            "_model_module": "@jupyter-widgets/controls",
            "_model_module_version": "1.5.0",
            "_model_name": "DescriptionStyleModel",
            "_view_count": null,
            "_view_module": "@jupyter-widgets/base",
            "_view_module_version": "1.2.0",
            "_view_name": "StyleView",
            "description_width": ""
          }
        },
        "7e42ac9e8a9c425c990959b16ab0c60c": {
          "model_module": "@jupyter-widgets/base",
          "model_name": "LayoutModel",
          "model_module_version": "1.2.0",
          "state": {
            "_model_module": "@jupyter-widgets/base",
            "_model_module_version": "1.2.0",
            "_model_name": "LayoutModel",
            "_view_count": null,
            "_view_module": "@jupyter-widgets/base",
            "_view_module_version": "1.2.0",
            "_view_name": "LayoutView",
            "align_content": null,
            "align_items": null,
            "align_self": null,
            "border": null,
            "bottom": null,
            "display": null,
            "flex": null,
            "flex_flow": null,
            "grid_area": null,
            "grid_auto_columns": null,
            "grid_auto_flow": null,
            "grid_auto_rows": null,
            "grid_column": null,
            "grid_gap": null,
            "grid_row": null,
            "grid_template_areas": null,
            "grid_template_columns": null,
            "grid_template_rows": null,
            "height": null,
            "justify_content": null,
            "justify_items": null,
            "left": null,
            "margin": null,
            "max_height": null,
            "max_width": null,
            "min_height": null,
            "min_width": null,
            "object_fit": null,
            "object_position": null,
            "order": null,
            "overflow": null,
            "overflow_x": null,
            "overflow_y": null,
            "padding": null,
            "right": null,
            "top": null,
            "visibility": null,
            "width": null
          }
        },
        "0c1aa15f02d94027a3b7dd6b45d683bc": {
          "model_module": "@jupyter-widgets/controls",
          "model_name": "DescriptionStyleModel",
          "model_module_version": "1.5.0",
          "state": {
            "_model_module": "@jupyter-widgets/controls",
            "_model_module_version": "1.5.0",
            "_model_name": "DescriptionStyleModel",
            "_view_count": null,
            "_view_module": "@jupyter-widgets/base",
            "_view_module_version": "1.2.0",
            "_view_name": "StyleView",
            "description_width": ""
          }
        },
        "b7c54f438aae473ead1ffd6df29664e9": {
          "model_module": "@jupyter-widgets/base",
          "model_name": "LayoutModel",
          "model_module_version": "1.2.0",
          "state": {
            "_model_module": "@jupyter-widgets/base",
            "_model_module_version": "1.2.0",
            "_model_name": "LayoutModel",
            "_view_count": null,
            "_view_module": "@jupyter-widgets/base",
            "_view_module_version": "1.2.0",
            "_view_name": "LayoutView",
            "align_content": null,
            "align_items": null,
            "align_self": null,
            "border": null,
            "bottom": null,
            "display": null,
            "flex": null,
            "flex_flow": null,
            "grid_area": null,
            "grid_auto_columns": null,
            "grid_auto_flow": null,
            "grid_auto_rows": null,
            "grid_column": null,
            "grid_gap": null,
            "grid_row": null,
            "grid_template_areas": null,
            "grid_template_columns": null,
            "grid_template_rows": null,
            "height": null,
            "justify_content": null,
            "justify_items": null,
            "left": null,
            "margin": null,
            "max_height": null,
            "max_width": null,
            "min_height": null,
            "min_width": null,
            "object_fit": null,
            "object_position": null,
            "order": null,
            "overflow": null,
            "overflow_x": null,
            "overflow_y": null,
            "padding": null,
            "right": null,
            "top": null,
            "visibility": null,
            "width": null
          }
        },
        "bf39929184944f248313c83fa0cfcb96": {
          "model_module": "@jupyter-widgets/controls",
          "model_name": "DescriptionStyleModel",
          "model_module_version": "1.5.0",
          "state": {
            "_model_module": "@jupyter-widgets/controls",
            "_model_module_version": "1.5.0",
            "_model_name": "DescriptionStyleModel",
            "_view_count": null,
            "_view_module": "@jupyter-widgets/base",
            "_view_module_version": "1.2.0",
            "_view_name": "StyleView",
            "description_width": ""
          }
        },
        "31a54ccce02d48ba95822a8d8a17c892": {
          "model_module": "@jupyter-widgets/output",
          "model_name": "OutputModel",
          "model_module_version": "1.0.0",
          "state": {
            "_dom_classes": [],
            "_model_module": "@jupyter-widgets/output",
            "_model_module_version": "1.0.0",
            "_model_name": "OutputModel",
            "_view_count": null,
            "_view_module": "@jupyter-widgets/output",
            "_view_module_version": "1.0.0",
            "_view_name": "OutputView",
            "layout": "IPY_MODEL_a444ad74abd9466dbf2f432b07435e57",
            "msg_id": "",
            "outputs": [
              {
                "output_type": "stream",
                "name": "stdout",
                "text": [
                  "Hello, Rubaiet! Your favourite colour is Blue and you love Burger.\n"
                ]
              }
            ]
          }
        },
        "a444ad74abd9466dbf2f432b07435e57": {
          "model_module": "@jupyter-widgets/base",
          "model_name": "LayoutModel",
          "model_module_version": "1.2.0",
          "state": {
            "_model_module": "@jupyter-widgets/base",
            "_model_module_version": "1.2.0",
            "_model_name": "LayoutModel",
            "_view_count": null,
            "_view_module": "@jupyter-widgets/base",
            "_view_module_version": "1.2.0",
            "_view_name": "LayoutView",
            "align_content": null,
            "align_items": null,
            "align_self": null,
            "border": null,
            "bottom": null,
            "display": null,
            "flex": null,
            "flex_flow": null,
            "grid_area": null,
            "grid_auto_columns": null,
            "grid_auto_flow": null,
            "grid_auto_rows": null,
            "grid_column": null,
            "grid_gap": null,
            "grid_row": null,
            "grid_template_areas": null,
            "grid_template_columns": null,
            "grid_template_rows": null,
            "height": null,
            "justify_content": null,
            "justify_items": null,
            "left": null,
            "margin": null,
            "max_height": null,
            "max_width": null,
            "min_height": null,
            "min_width": null,
            "object_fit": null,
            "object_position": null,
            "order": null,
            "overflow": null,
            "overflow_x": null,
            "overflow_y": null,
            "padding": null,
            "right": null,
            "top": null,
            "visibility": null,
            "width": null
          }
        }
      }
    }
  },
  "nbformat": 4,
  "nbformat_minor": 0
}